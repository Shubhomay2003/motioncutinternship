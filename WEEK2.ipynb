{
 "cells": [
  {
   "cell_type": "code",
   "execution_count": 6,
   "id": "8f3355ca",
   "metadata": {},
   "outputs": [
    {
     "name": "stdout",
     "output_type": "stream",
     "text": [
      "Enter a sentence or paragraph: jhuh.\n",
      "The number of words present in the entered text is: 1\n"
     ]
    }
   ],
   "source": [
    "import re # importing re(regular expression) library\n",
    "def count_words(text):\n",
    "    \"\"\"\n",
    "    This function counts the number of words in the given text.\n",
    "    Words are assumed to be separated by whitespace.\n",
    "    \n",
    "    Parameters:\n",
    "    text (str): The input text to be analyzed.\n",
    "    \n",
    "    Returns:\n",
    "    int: The number of words present in the input text.\n",
    "    \"\"\"\n",
    "    # Use regular expressions to replace punctuations with null character\n",
    "    text = re.sub(r'[^\\w\\s]', '', text)# it ignores any word character and whitespaces and hence selects special characters and substitutes with null character\n",
    "    # Split the text by whitespace to get words and filter out any empty strings\n",
    "    words = text.split()\n",
    "    return len(words)\n",
    "\n",
    "def main():\n",
    "    \"\"\"\n",
    "    Prompts the user for input, counts the words, and displays the count.\n",
    "    \"\"\"\n",
    "    w_input = input(\"Enter a sentence or paragraph: \").strip()# here strip() eliminates extra whitespaces present at first and last of input text\n",
    "    \n",
    "    # Checking if the input is empty \n",
    "    if not w_input:\n",
    "        print(\"Sorry, the input cannot be empty!!!! Please try again.\")\n",
    "        return\n",
    "    \n",
    "    # Count the number of words in the input\n",
    "    word_count = count_words(w_input)\n",
    "    \n",
    "    # Display the word count to the console\n",
    "    print(f\"The number of words present in the entered text is: {word_count}\")\n",
    "\n",
    "if __name__ == \"__main__\":\n",
    "    main()"
   ]
  },
  {
   "cell_type": "code",
   "execution_count": null,
   "id": "0b0f598f",
   "metadata": {},
   "outputs": [],
   "source": []
  }
 ],
 "metadata": {
  "kernelspec": {
   "display_name": "Python 3 (ipykernel)",
   "language": "python",
   "name": "python3"
  },
  "language_info": {
   "codemirror_mode": {
    "name": "ipython",
    "version": 3
   },
   "file_extension": ".py",
   "mimetype": "text/x-python",
   "name": "python",
   "nbconvert_exporter": "python",
   "pygments_lexer": "ipython3",
   "version": "3.10.9"
  }
 },
 "nbformat": 4,
 "nbformat_minor": 5
}
